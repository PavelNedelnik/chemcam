{
 "cells": [
  {
   "cell_type": "code",
   "execution_count": 1,
   "metadata": {},
   "outputs": [],
   "source": [
    "import pandas as pd\n",
    "import numpy as np\n",
    "import tensorflow as tf"
   ]
  },
  {
   "cell_type": "markdown",
   "metadata": {},
   "source": [
    "# data"
   ]
  },
  {
   "cell_type": "markdown",
   "metadata": {},
   "source": [
    "## loading"
   ]
  },
  {
   "cell_type": "code",
   "execution_count": null,
   "metadata": {},
   "outputs": [],
   "source": [
    "path = 'data/'\n",
    "    \n",
    "data = pd.read_csv(f'{path}data.csv', index_col=0)\n",
    "wavelengths = pd.read_csv(f'{path}metadata_wvl.csv', index_col=0)\n",
    "contents = pd.read_csv(f'{path}metadata_composition.csv', index_col=0)\n",
    "\n",
    "wavelengths = np.squeeze(wavelengths.to_numpy())"
   ]
  },
  {
   "cell_type": "code",
   "execution_count": null,
   "metadata": {},
   "outputs": [],
   "source": [
    "from src.visualization import plot_spectra\n",
    "\n",
    "plot_spectra([data.mean(axis=0).to_numpy()], calibration=wavelengths)"
   ]
  },
  {
   "cell_type": "markdown",
   "metadata": {},
   "source": [
    "## preprocessing"
   ]
  },
  {
   "cell_type": "code",
   "execution_count": null,
   "metadata": {},
   "outputs": [],
   "source": [
    "# remove wavelengths without useful information\n",
    "\n",
    "MASKS = [\n",
    "  (200,245.5),\n",
    "  (712.17,714),\n",
    "  (796,808),\n",
    "  (848.3,1000)\n",
    "]\n",
    "mask_cond = [\n",
    "  not(\n",
    "    MASKS[0][1] >= x >= MASKS[0][0] or\n",
    "    MASKS[1][1] >= x >= MASKS[1][0] or\n",
    "    MASKS[2][1] >= x >= MASKS[2][0] or\n",
    "    MASKS[3][1] >= x >= MASKS[3][0]\n",
    "  )\n",
    "  for x in wavelengths\n",
    "]\n",
    "\n",
    "wavelengths = wavelengths[mask_cond]\n",
    "\n",
    "data = data.loc[:,mask_cond]"
   ]
  },
  {
   "cell_type": "code",
   "execution_count": null,
   "metadata": {},
   "outputs": [],
   "source": [
    "def normalize_individually(spectra, wavelengths, ranges):\n",
    "    if isinstance(spectra, np.ndarray):\n",
    "        spectra = spectra.copy()\n",
    "    else:\n",
    "        spectra = spectra.to_numpy()\n",
    "\n",
    "    for key in ranges:\n",
    "        ndx = np.where(\n",
    "            (\n",
    "                wavelengths >= ranges[key][0]\n",
    "            ) \\\n",
    "            & (\n",
    "                wavelengths <= ranges[key][1]\n",
    "            )\n",
    "        )\n",
    "        spectra[ndx] /= np.sum(spectra[ndx])\n",
    "    return spectra\n",
    "\n",
    "\n",
    "data = data.apply(\n",
    "    func=lambda spectrum: pd.Series(\n",
    "        normalize_individually(\n",
    "            spectra=spectrum,\n",
    "            wavelengths=wavelengths,\n",
    "            ranges={\n",
    "                '1':( 243,     342     ),\n",
    "                '2':( 379,     465     ),\n",
    "                '3':( 537,     620.079 ),\n",
    "                '4':( 620.08,  712.17  ),\n",
    "                '5':( 712.171, 852.78  ),\n",
    "            },\n",
    "        ),\n",
    "    ),\n",
    "    axis=1,\n",
    ")"
   ]
  },
  {
   "cell_type": "code",
   "execution_count": null,
   "metadata": {},
   "outputs": [],
   "source": [
    "plot_spectra([data.mean(axis=0).to_numpy()], calibration=wavelengths)"
   ]
  },
  {
   "cell_type": "markdown",
   "metadata": {},
   "source": [
    "## train test split"
   ]
  },
  {
   "cell_type": "code",
   "execution_count": null,
   "metadata": {},
   "outputs": [],
   "source": [
    "from random import shuffle\n",
    "\n",
    "COMPOUND = 'SiO2'\n",
    "TEST_FOLD = 3\n",
    "\n",
    "train_names = [\n",
    "    idx\n",
    "    for idx\n",
    "    in contents[\n",
    "        (contents[f'{COMPOUND}_outliers'] == 'Keep')\n",
    "        & (contents['distance_mm'] < 4000)\n",
    "        & (contents[f'{COMPOUND}_Folds'] != TEST_FOLD)\n",
    "        & (contents[f'{COMPOUND}_Folds'] != 0)\n",
    "    ].index.tolist()\n",
    "    if idx in data.index\n",
    "]\n",
    "\n",
    "test_names = [\n",
    "    idx\n",
    "    for idx\n",
    "    in contents[\n",
    "        (contents[f'{COMPOUND}_outliers'] == 'Keep')\n",
    "        & (contents['distance_mm'] < 4000)\n",
    "        & (contents[f'{COMPOUND}_Folds'] == TEST_FOLD)\n",
    "    ].index.tolist()\n",
    "    if idx in data.index\n",
    "]\n",
    "\n",
    "X_test = data.loc[test_names,:].to_numpy()\n",
    "y_test = np.nan_to_num(contents.loc[test_names, f'{COMPOUND}'].to_numpy())\n",
    "\n",
    "shuffle(train_names)\n",
    "X_train = data.loc[train_names,:].to_numpy()\n",
    "y_train = np.nan_to_num(contents.loc[train_names,f'{COMPOUND}'].to_numpy())\n",
    "\n",
    "X_test, X_train = (np.reshape(m, (m.shape[0], m.shape[1], 1)) for m in (X_test, X_train))\n",
    "\n"
   ]
  },
  {
   "cell_type": "markdown",
   "metadata": {},
   "source": [
    "# models"
   ]
  },
  {
   "cell_type": "markdown",
   "metadata": {},
   "source": [
    "## cnn baseline"
   ]
  },
  {
   "cell_type": "markdown",
   "metadata": {},
   "source": [
    "### architecture"
   ]
  },
  {
   "cell_type": "code",
   "execution_count": null,
   "metadata": {},
   "outputs": [],
   "source": [
    "def Compile_Branching(\n",
    "  L = 1e-2,\n",
    "  L_b = 1e-3,\n",
    "  input_shape = (data.shape[1],) + (1,),\n",
    "  print_summary:bool = False,\n",
    "  lr = 1\n",
    "):\n",
    "\n",
    "  model_input = tf.keras.Input(\n",
    "    shape=input_shape\n",
    "  )\n",
    "  # ----------------------------- Block1\n",
    "  x = tf.keras.layers.Conv1D(\n",
    "    filters=8,\n",
    "    kernel_size=3,\n",
    "    strides=1,\n",
    "    activation='relu',\n",
    "    kernel_initializer=tf.keras.initializers.HeNormal(seed=None)\n",
    "  )(model_input)\n",
    "  x = tf.keras.layers.Conv1D(\n",
    "    filters=8,\n",
    "    kernel_size=3,\n",
    "    strides=1,\n",
    "    activation='relu',\n",
    "    kernel_initializer=tf.keras.initializers.HeNormal(seed=None)\n",
    "  )(x)\n",
    "  x = tf.keras.layers.Conv1D(\n",
    "    filters=8,\n",
    "    kernel_size=3,\n",
    "    strides=1,\n",
    "    activation='relu',\n",
    "    kernel_initializer=tf.keras.initializers.HeNormal(seed=None)\n",
    "  )(x)\n",
    "\n",
    "  # ----------------------------- Block2\n",
    "  # ----------------------------- Branch1\n",
    "  branch1 = tf.keras.layers.Conv1D(\n",
    "    filters=4,\n",
    "    kernel_size=1,\n",
    "    strides=1,\n",
    "    padding=\"same\",\n",
    "    activation='relu',\n",
    "    kernel_initializer=tf.keras.initializers.HeNormal(seed=None)\n",
    "  )(x)\n",
    "\n",
    "  # ----------------------------- Branch2\n",
    "  branch2 = tf.keras.layers.Conv1D(\n",
    "    filters=4,\n",
    "    kernel_size=1,\n",
    "    strides=1,\n",
    "    padding=\"same\",\n",
    "    activation='relu',\n",
    "    kernel_initializer=tf.keras.initializers.HeNormal(seed=None)\n",
    "  )(x)\n",
    "  branch2 = tf.keras.layers.Conv1D(\n",
    "    filters=4,\n",
    "    kernel_size=3,\n",
    "    strides=1,\n",
    "    padding=\"same\",\n",
    "    activation='relu',\n",
    "    kernel_initializer=tf.keras.initializers.HeNormal(seed=None)\n",
    "  )(branch2)\n",
    "\n",
    "  # ----------------------------- Branch3\n",
    "  branch3 = tf.keras.layers.Conv1D(\n",
    "    filters=4,\n",
    "    kernel_size=1,\n",
    "    strides=1,\n",
    "    padding=\"same\",\n",
    "    activation='relu',\n",
    "    kernel_initializer=tf.keras.initializers.HeNormal(seed=None)\n",
    "  )(x)\n",
    "  branch3 = tf.keras.layers.Conv1D(\n",
    "    filters=4,\n",
    "    kernel_size=3,\n",
    "    strides=1,\n",
    "    padding=\"same\",\n",
    "    activation='relu',\n",
    "    kernel_initializer=tf.keras.initializers.HeNormal(seed=None)\n",
    "  )(branch3)\n",
    "  branch3 = tf.keras.layers.Conv1D(\n",
    "    filters=4,\n",
    "    kernel_size=3,\n",
    "    strides=1,\n",
    "    padding=\"same\",\n",
    "    activation='relu',\n",
    "    kernel_initializer=tf.keras.initializers.HeNormal(seed=None)\n",
    "  )(branch3)\n",
    "\n",
    "  # ----------------------------- Branch4\n",
    "  branch4 = tf.keras.layers.MaxPool1D(\n",
    "    pool_size=2,  \n",
    "    strides=1,\n",
    "    padding=\"same\"\n",
    "  )(x)\n",
    "  branch4 = tf.keras.layers.Conv1D(\n",
    "    filters=4,\n",
    "    kernel_size=1,\n",
    "    strides=1,\n",
    "    padding=\"same\",\n",
    "    activation='relu',\n",
    "    kernel_initializer=tf.keras.initializers.HeNormal(seed=None)\n",
    "  )(branch4)\n",
    "\n",
    "  # ----------------------------- Concat\n",
    "  concat = tf.keras.layers.add([branch1,branch2,branch3,branch4])\n",
    "  # ----------------------------- Ouptut\n",
    "  concat = tf.keras.layers.Flatten()(concat)\n",
    "\n",
    "  model_output = tf.keras.layers.Dense(\n",
    "    1,\n",
    "    activation='relu',\n",
    "    kernel_initializer=tf.keras.initializers.HeNormal(seed=None),\n",
    "    kernel_regularizer=tf.keras.regularizers.l1_l2(l1=L,l2=L),\n",
    "    bias_regularizer=tf.keras.regularizers.l1_l2(l1=L_b,l2=L_b)\n",
    "  )(concat)\n",
    "\n",
    "  model_output = tf.keras.layers.BatchNormalization()(model_output)\n",
    "\n",
    "  model = tf.keras.Model(\n",
    "    model_input,\n",
    "    model_output,\n",
    "    name='branching_cnn'\n",
    "  )\n",
    "  model.compile(\n",
    "    optimizer=tf.optimizers.Adam(\n",
    "      learning_rate=lr\n",
    "    ),\n",
    "    loss='mean_squared_error',\n",
    "    metrics=[\n",
    "      tf.metrics.RootMeanSquaredError()\n",
    "    ]\n",
    "  )\n",
    "\n",
    "  if print_summary: model.summary()\n",
    "\n",
    "  return(model)"
   ]
  },
  {
   "cell_type": "markdown",
   "metadata": {},
   "source": [
    "### training"
   ]
  },
  {
   "cell_type": "code",
   "execution_count": null,
   "metadata": {},
   "outputs": [],
   "source": [
    "cnn_baseline = Compile_Branching()\n",
    "cnn_baseline.fit(X_train, y_train, epochs=500, batch_size=32, verbose=2, validation_data=(X_test, y_test))"
   ]
  },
  {
   "cell_type": "code",
   "execution_count": null,
   "metadata": {},
   "outputs": [],
   "source": [
    "tf.keras.utils.plot_model(\n",
    "    cnn_baseline,\n",
    "    to_file=\"model.png\",\n",
    "    show_shapes=False,\n",
    "    show_dtype=False,\n",
    "    show_layer_names=True,\n",
    "    rankdir=\"TB\",\n",
    "    expand_nested=False,\n",
    "    dpi=96,\n",
    "    layer_range=None,\n",
    "    show_layer_activations=False,\n",
    ")"
   ]
  },
  {
   "cell_type": "markdown",
   "metadata": {},
   "source": [
    "## rnn"
   ]
  },
  {
   "cell_type": "markdown",
   "metadata": {},
   "source": [
    "### architecture"
   ]
  },
  {
   "cell_type": "code",
   "execution_count": null,
   "metadata": {},
   "outputs": [],
   "source": []
  },
  {
   "cell_type": "markdown",
   "metadata": {},
   "source": [
    "### training"
   ]
  }
 ],
 "metadata": {
  "kernelspec": {
   "display_name": "Python 3.7.9 ('.venv': venv)",
   "language": "python",
   "name": "python3"
  },
  "language_info": {
   "codemirror_mode": {
    "name": "ipython",
    "version": 3
   },
   "file_extension": ".py",
   "mimetype": "text/x-python",
   "name": "python",
   "nbconvert_exporter": "python",
   "pygments_lexer": "ipython3",
   "version": "3.7.9"
  },
  "orig_nbformat": 4,
  "vscode": {
   "interpreter": {
    "hash": "9ab08168ef9f03c5de723b009433d71c39f22feeb03184f706861f48ec74f936"
   }
  }
 },
 "nbformat": 4,
 "nbformat_minor": 2
}
